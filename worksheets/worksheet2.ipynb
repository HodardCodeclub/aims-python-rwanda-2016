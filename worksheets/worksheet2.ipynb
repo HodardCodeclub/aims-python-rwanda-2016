{
 "cells": [
  {
   "cell_type": "markdown",
   "metadata": {},
   "source": [
    "Course 2: lists, loops, conditionals\n",
    "====================================\n",
    "\n",
    "In the first course we have seen:\n",
    " - basic Python objects: booleans (`bool`), integers (`int`), floating point (`float`), complex floating point (`complex`) and string (`str`). At the end we also constructed lists and numpy arrays for plotting.\n",
    " - binary operations `+`, `*`, `-`, `/`, `//`, `%` and comparisons `==`, `!=`, `<`, `<=`, `>`, `>=`\n",
    "\n",
    "In this second course, we learn:\n",
    " - how to manipulate `list` (creation, removing/adding elements, copy)\n",
    " - how to go through the element of an iterable (`for` loop)\n",
    " - the operator `or`, `and` and `not`\n",
    " - how to do an operation under a certain condition (`if`, `elif`, `else`)\n",
    " - how to repeat an action until a certain condition is verified (`while` loop)\n",
    " - the function `map`, `filter` and `zip`\n",
    " - the functions `all` and `any`"
   ]
  },
  {
   "cell_type": "markdown",
   "metadata": {},
   "source": [
    "Lists\n",
    "------\n",
    "\n",
    "A list is constructed with square brackets \"`[`\" and \"`]`\". We also access its elements using these."
   ]
  },
  {
   "cell_type": "code",
   "execution_count": null,
   "metadata": {
    "collapsed": false
   },
   "outputs": [],
   "source": [
    "l = [1, 34, 18]  # a list of 3 elements\n",
    "print(l)"
   ]
  },
  {
   "cell_type": "code",
   "execution_count": null,
   "metadata": {
    "collapsed": false
   },
   "outputs": [],
   "source": [
    "l[0]    # access element at position 0 (= first)"
   ]
  },
  {
   "cell_type": "code",
   "execution_count": null,
   "metadata": {
    "collapsed": false
   },
   "outputs": [],
   "source": [
    "l[2]    # access element at position 2 (= third)"
   ]
  },
  {
   "cell_type": "code",
   "execution_count": null,
   "metadata": {
    "collapsed": false
   },
   "outputs": [],
   "source": [
    "l[-1]   # access elemenet at last position"
   ]
  },
  {
   "cell_type": "code",
   "execution_count": null,
   "metadata": {
    "collapsed": false
   },
   "outputs": [],
   "source": [
    "l[5]    # this element does not exist"
   ]
  },
  {
   "cell_type": "code",
   "execution_count": null,
   "metadata": {
    "collapsed": false
   },
   "outputs": [],
   "source": [
    "len(l)   # get the length of the list"
   ]
  },
  {
   "cell_type": "code",
   "execution_count": null,
   "metadata": {
    "collapsed": false
   },
   "outputs": [],
   "source": []
  },
  {
   "cell_type": "code",
   "execution_count": null,
   "metadata": {
    "collapsed": false
   },
   "outputs": [],
   "source": []
  },
  {
   "cell_type": "markdown",
   "metadata": {},
   "source": [
    "The above is very similar to strings (and other \"list like\" Python objects as numpy arrays):"
   ]
  },
  {
   "cell_type": "code",
   "execution_count": null,
   "metadata": {
    "collapsed": true
   },
   "outputs": [],
   "source": [
    "s = \"Rwanda\""
   ]
  },
  {
   "cell_type": "code",
   "execution_count": null,
   "metadata": {
    "collapsed": false
   },
   "outputs": [],
   "source": [
    "s[0]"
   ]
  },
  {
   "cell_type": "code",
   "execution_count": null,
   "metadata": {
    "collapsed": false
   },
   "outputs": [],
   "source": [
    "s[-4]"
   ]
  },
  {
   "cell_type": "code",
   "execution_count": null,
   "metadata": {
    "collapsed": false
   },
   "outputs": [],
   "source": [
    "len(s)"
   ]
  },
  {
   "cell_type": "code",
   "execution_count": null,
   "metadata": {
    "collapsed": false
   },
   "outputs": [],
   "source": []
  },
  {
   "cell_type": "code",
   "execution_count": null,
   "metadata": {
    "collapsed": true
   },
   "outputs": [],
   "source": []
  },
  {
   "cell_type": "markdown",
   "metadata": {},
   "source": [
    "You can run through the elements of a list (or a string) using for loops. There are basicly two ways of using for as shown below:\n",
    "- to perform an operation on each element of the list (e.g. `print`)\n",
    "- to build another list from the previous one (\"list comprehension\")"
   ]
  },
  {
   "cell_type": "code",
   "execution_count": null,
   "metadata": {
    "collapsed": false
   },
   "outputs": [],
   "source": [
    "for x in l:\n",
    "    print(x)"
   ]
  },
  {
   "cell_type": "code",
   "execution_count": null,
   "metadata": {
    "collapsed": false
   },
   "outputs": [],
   "source": [
    "l2 = [x**2 for x in l]\n",
    "print(l2)"
   ]
  },
  {
   "cell_type": "code",
   "execution_count": null,
   "metadata": {
    "collapsed": false
   },
   "outputs": [],
   "source": [
    "l3 = [c*2 for c in s]\n",
    "print(l3)"
   ]
  },
  {
   "cell_type": "code",
   "execution_count": null,
   "metadata": {
    "collapsed": false
   },
   "outputs": [],
   "source": []
  },
  {
   "cell_type": "code",
   "execution_count": null,
   "metadata": {
    "collapsed": true
   },
   "outputs": [],
   "source": []
  },
  {
   "cell_type": "markdown",
   "metadata": {},
   "source": [
    "**Exercise:**\n",
    "- Create a list with the odd numbers from 11 to 19 included\n",
    "- Make a for loop in order to compute their product"
   ]
  },
  {
   "cell_type": "code",
   "execution_count": null,
   "metadata": {
    "collapsed": true
   },
   "outputs": [],
   "source": []
  },
  {
   "cell_type": "code",
   "execution_count": null,
   "metadata": {
    "collapsed": true
   },
   "outputs": [],
   "source": []
  },
  {
   "cell_type": "markdown",
   "metadata": {},
   "source": [
    "**Exercise:** Recall that the Fibonacci sequence is defined by $F_0 = F_1 = 1$ and $F_{n+1} = F_n + F_{n-1}$.\n",
    "- Create a list with the first tenth Fibonacci numbers\n",
    "- Using the first list, create a second one that contains their squares"
   ]
  },
  {
   "cell_type": "code",
   "execution_count": null,
   "metadata": {
    "collapsed": true
   },
   "outputs": [],
   "source": []
  },
  {
   "cell_type": "code",
   "execution_count": null,
   "metadata": {
    "collapsed": true
   },
   "outputs": [],
   "source": []
  },
  {
   "cell_type": "markdown",
   "metadata": {},
   "source": [
    "Similarly to strings, list can be \n",
    "\n",
    "- concatenated using `+` as `[0, 1, 3] + [2, 5, 6]`\n",
    "- repeated using `*` as `[0, 1] * 10`\n",
    "\n",
    "You can also add more terms to a list using the methods `append` and `insert` and remove terms using `pop`.\n",
    "\n",
    "**IMPORTANT** You can access the documentation of these methods using the question mark \"`?`\" and pressing enter."
   ]
  },
  {
   "cell_type": "code",
   "execution_count": null,
   "metadata": {
    "collapsed": false
   },
   "outputs": [],
   "source": []
  },
  {
   "cell_type": "code",
   "execution_count": null,
   "metadata": {
    "collapsed": false
   },
   "outputs": [],
   "source": []
  },
  {
   "cell_type": "markdown",
   "metadata": {
    "collapsed": true
   },
   "source": [
    "Exercise\n",
    "--------\n",
    "\n",
    "What is the value of the list `l` after the evaluation of these lines\n",
    "```python\n",
    "l = [0] * 3 + [1, 2] * 2\n",
    "l.append(5)\n",
    "l.append(2)\n",
    "l.pop(2)\n",
    "l.insert(0, 2)\n",
    "l.insert(2, l.pop(3))\n",
    "```\n",
    "Check your answer by copying, pasting and executing the above code."
   ]
  },
  {
   "cell_type": "code",
   "execution_count": null,
   "metadata": {
    "collapsed": true
   },
   "outputs": [],
   "source": []
  },
  {
   "cell_type": "code",
   "execution_count": null,
   "metadata": {
    "collapsed": false
   },
   "outputs": [],
   "source": []
  },
  {
   "cell_type": "markdown",
   "metadata": {},
   "source": [
    "If you want to iterate over integers there is a useful function for that called `range`. Its return type is an `iterator` meaning that we can run a `for` loop on it! It is a function that can be called with either one, two or three arguments:\n",
    "\n",
    " - `range(stop)`:  all integers from `0` to `n-1` included\n",
    " - `range(start, stop)`: all integers from `start` to `stop - 1`\n",
    " - `range(start, stop, step)`: all integers from `start` to `stop` and with a difference of `step` between each consecutive terms\n",
    " \n",
    "**Exercise:**\n",
    "Copy/paste the code below in code cell and before executing it try to guess what will be the output\n",
    "\n",
    "1 -\n",
    "```python\n",
    "for x in range(5):\n",
    "    print(x)\n",
    "```\n",
    "\n",
    "2 - \n",
    "```python\n",
    "for x in range(12, 20, 3):\n",
    "    print(x)\n",
    "```\n",
    "\n",
    "3 - \n",
    "```python\n",
    "for x in range(30, -1, -10):\n",
    "    print(x)\n",
    "```"
   ]
  },
  {
   "cell_type": "code",
   "execution_count": null,
   "metadata": {
    "collapsed": false
   },
   "outputs": [],
   "source": []
  },
  {
   "cell_type": "code",
   "execution_count": null,
   "metadata": {
    "collapsed": true
   },
   "outputs": [],
   "source": []
  },
  {
   "cell_type": "markdown",
   "metadata": {},
   "source": [
    "**Exercise:** What is the value of $$\\sum_{k = 1}^{20} k^k$$"
   ]
  },
  {
   "cell_type": "code",
   "execution_count": null,
   "metadata": {
    "collapsed": false
   },
   "outputs": [],
   "source": []
  },
  {
   "cell_type": "code",
   "execution_count": null,
   "metadata": {
    "collapsed": true
   },
   "outputs": [],
   "source": []
  },
  {
   "cell_type": "markdown",
   "metadata": {},
   "source": [
    "**Exercise:**\n",
    "- make the list of the first $30$ Fibonacci numbers $F_n$\n",
    "- make the list of the quantity $F_n^2 - F_{n-1} F_{n+1}$ for $n=1,2,...,28$ (*hint: you should use the list constructed above and a construction by comprehension with a range*)\n",
    "- What do you see? Could you prove it?"
   ]
  },
  {
   "cell_type": "code",
   "execution_count": null,
   "metadata": {
    "collapsed": false
   },
   "outputs": [],
   "source": []
  },
  {
   "cell_type": "code",
   "execution_count": null,
   "metadata": {
    "collapsed": true
   },
   "outputs": [],
   "source": []
  },
  {
   "cell_type": "markdown",
   "metadata": {},
   "source": [
    "**Exercise:** what does the following code?\n",
    "```python\n",
    "x = 1.0\n",
    "for i in range(10):\n",
    "    x += (x + 2.0 / x) / 2.0\n",
    "```"
   ]
  },
  {
   "cell_type": "code",
   "execution_count": null,
   "metadata": {
    "collapsed": true
   },
   "outputs": [],
   "source": []
  },
  {
   "cell_type": "code",
   "execution_count": null,
   "metadata": {
    "collapsed": true
   },
   "outputs": [],
   "source": []
  },
  {
   "cell_type": "markdown",
   "metadata": {},
   "source": [
    "In the following exercise, you will need to use nested loops. That is construction of the form\n",
    "```python\n",
    "for x in l1:\n",
    "    for y in l2:\n",
    "        do something\n",
    "```\n",
    "**Exercise:**\n",
    "- Using the recurrence relation satisfied by the binomial numbers $\\binom{n+1}{k+1} = \\binom{n}{k} + \\binom{n}{k+1}$ compute the list $\\binom{20}{0}, \\binom{20}{1}, \\ldots, \\binom{20}{20}$.\n",
    "- What is the sum of these binomials? Check it."
   ]
  },
  {
   "cell_type": "code",
   "execution_count": null,
   "metadata": {
    "collapsed": false
   },
   "outputs": [],
   "source": []
  },
  {
   "cell_type": "code",
   "execution_count": null,
   "metadata": {
    "collapsed": true
   },
   "outputs": [],
   "source": []
  },
  {
   "cell_type": "markdown",
   "metadata": {},
   "source": [
    "**Note:** `range` constructs an object of a strange nature (can you find its type?). It is an iterable. Abstractly, it comport like a list, namely you can access elements and compute the length\n",
    "```python\n",
    "r = range(0, 1523, 2)\n",
    "print(r[10])\n",
    "print(r[-5])\n",
    "print(len(r))\n",
    "```\n",
    "And as we see, you can run a for loop on it (we say that it is *iterable*). However, the `range` object is not expanded in memory! The list of integers from $0$ to $2^{64}$ is much bigger than the RAM available in your computer. As a consequence, the list of commands below is fine (but will run forever)\n",
    "```python\n",
    "j = 0\n",
    "for i in range(2**64):\n",
    "    j = j + i\n",
    "```\n",
    "while this second example will likely freeze your computer (eating all the memory)\n",
    "```python\n",
    "l = list(range(2**64))\n",
    "```\n",
    "Execute the first of the two above list of commands. You can check that the code continue executing (look at the star that appears in the blue box on the left). To interrupt the execution you can use the menu on the top of the page: \"Kernel -> Interrupt\". Do not execute the second list of commands!"
   ]
  },
  {
   "cell_type": "code",
   "execution_count": null,
   "metadata": {
    "collapsed": false
   },
   "outputs": [],
   "source": []
  },
  {
   "cell_type": "code",
   "execution_count": null,
   "metadata": {
    "collapsed": false
   },
   "outputs": [],
   "source": []
  },
  {
   "cell_type": "markdown",
   "metadata": {},
   "source": [
    "`if`/`elif`/`else`\n",
    "------------------\n",
    "\n",
    "We have just learned loops basic. We will now see another construction which allows to perform an instruction only when a certain condition is fullfilled. These are constructed with the keywords `if`, `elif` and `else`. The first way to perform such construction is\n",
    "```python\n",
    "if condition:\n",
    "    instruction\n",
    "```\n",
    "or\n",
    "```python\n",
    "if condition:\n",
    "    instruction1\n",
    "else:\n",
    "    instruction2\n",
    "```\n",
    "or possibly\n",
    "```python\n",
    "if condition1:\n",
    "    instruction1\n",
    "elif condition2:\n",
    "    instruction2\n",
    "elif instruction3:\n",
    "    instruction3\n",
    "```\n",
    "The possible number of intermediate `elif` is unlimited. The final `else` is always optional.\n",
    "\n",
    "This is well illustrated if you want to compute the sign of a real number `x` (that is `-1` if `x` is negative, `0` if x is zero and `1` if x is positive)\n",
    "```python\n",
    "if x > 0:\n",
    "    s = 1\n",
    "elif x == 0:\n",
    "    s = 0\n",
    "else:\n",
    "    s = -1\n",
    "```"
   ]
  },
  {
   "cell_type": "code",
   "execution_count": null,
   "metadata": {
    "collapsed": false
   },
   "outputs": [],
   "source": []
  },
  {
   "cell_type": "code",
   "execution_count": null,
   "metadata": {
    "collapsed": true
   },
   "outputs": [],
   "source": []
  },
  {
   "cell_type": "markdown",
   "metadata": {},
   "source": [
    "**Exercise:** we consider the following substitution on lists $1 \\mapsto 12, 2 \\mapsto 13, 3 \\mapsto 1$. Starting from $1$, applying repeatedly this substitution we obtain $12$, $1213$, $1213121$, etc. Write the first 15 iterations of this procedure. (*hint: you need to write a for loop with a if statement contained inside*)"
   ]
  },
  {
   "cell_type": "code",
   "execution_count": null,
   "metadata": {
    "collapsed": false
   },
   "outputs": [],
   "source": []
  },
  {
   "cell_type": "code",
   "execution_count": null,
   "metadata": {
    "collapsed": false
   },
   "outputs": [],
   "source": []
  },
  {
   "cell_type": "markdown",
   "metadata": {},
   "source": [
    "It is also possible to use the `if` construction in list comprehension. For example, the following code\n",
    "```python\n",
    "[x for x in range(20) if x**2 < 30]\n",
    "```\n",
    "builds the list of integer $x$ in $\\{0, 1, \\ldots, 19\\}$ that satisfies the condition $x^2 < 30$. You can see that it is very similar to the notation from set theory $$\\{x \\in \\{0, 1, \\ldots, 19\\}: x^2 < 30\\}$$.\n",
    "\n",
    "**Exercise:** Build the list of Fibonacci numbers $F_n$ with $n$ less than 50 so that $F_n$ is congruent to 1 mod 7."
   ]
  },
  {
   "cell_type": "code",
   "execution_count": null,
   "metadata": {
    "collapsed": true
   },
   "outputs": [],
   "source": []
  },
  {
   "cell_type": "code",
   "execution_count": null,
   "metadata": {
    "collapsed": true
   },
   "outputs": [],
   "source": []
  },
  {
   "cell_type": "markdown",
   "metadata": {},
   "source": [
    "`while` loop\n",
    "------------\n",
    "There is another way of repeating actions: while loops. A certain action is repeated while a certain condition is satisfied.\n",
    "\n",
    "**Exercise:** Can you guess what does the following loop do?\n",
    "```python\n",
    "n = 18600435\n",
    "z = 0\n",
    "while n % 3 == 0:\n",
    "    n //= 3\n",
    "    z += 1\n",
    "```\n",
    "What are the values of `n` and `z` at the end?"
   ]
  },
  {
   "cell_type": "code",
   "execution_count": null,
   "metadata": {
    "collapsed": true
   },
   "outputs": [],
   "source": []
  },
  {
   "cell_type": "code",
   "execution_count": null,
   "metadata": {
    "collapsed": true
   },
   "outputs": [],
   "source": []
  },
  {
   "cell_type": "markdown",
   "metadata": {},
   "source": [
    "**Exercise:**\n",
    "- what is the first Fibonacci number larger than $2^{2^{2^{2^2}}}$? You must do this computation without using a list.\n",
    "- how many digits does it have?"
   ]
  },
  {
   "cell_type": "code",
   "execution_count": null,
   "metadata": {
    "collapsed": false
   },
   "outputs": [],
   "source": []
  },
  {
   "cell_type": "code",
   "execution_count": null,
   "metadata": {
    "collapsed": false
   },
   "outputs": [],
   "source": []
  },
  {
   "cell_type": "markdown",
   "metadata": {},
   "source": [
    "Constructing complex conditions: `or`, `and`, `not`, `any`, `all`\n",
    "-----------------------------------------------------------------\n",
    "\n",
    "In order to build more complex conditions there are useful operations `or`, `and` and `not`. Before explaining how they work, you need to know that most Python objects can be converted to a boolean (`True`) or (`False`) using `bool(a_python_object)`. You can check that:\n",
    " - a Python integer (or floating point) converts to `True` if and only if it is not zero\n",
    " - a Python list converts to `True` if and only if it is not empty\n",
    "Now we can define these new operation:\n",
    "\n",
    "| command   | description                                                 |\n",
    "|-----------|-------------------------------------------------------------|\n",
    "| `a or b`  | returns `a` if it converts to `True` otherwise returns `b`  |\n",
    "| `a and b` | returns `a` if it converts to `False` otherwise returns `b` |\n",
    "| `not x`   | returns `True` if `x` converts to `False` and conversely    |\n",
    "\n",
    "**Exercise:**\n",
    "What are the result of each command below\n",
    "```python\n",
    "1 or 0\n",
    "0 or 1\n",
    "0 and 3 == 0 and 2\n",
    "1 and [] == 1 and 5\n",
    "not []\n",
    "```"
   ]
  },
  {
   "cell_type": "code",
   "execution_count": null,
   "metadata": {
    "collapsed": false
   },
   "outputs": [],
   "source": []
  },
  {
   "cell_type": "code",
   "execution_count": null,
   "metadata": {
    "collapsed": true
   },
   "outputs": [],
   "source": []
  },
  {
   "cell_type": "markdown",
   "metadata": {},
   "source": [
    "**Exercise:** What does the following code do\n",
    "```python\n",
    "l = [1, 12, 5, 14, -6, 13, 19, -4, 10]\n",
    "l2 = [x for x in l if x > 0 and not x < 10 or x == 14]\n",
    "```\n",
    "Check your answer by copy, paste, execute."
   ]
  },
  {
   "cell_type": "code",
   "execution_count": null,
   "metadata": {
    "collapsed": true
   },
   "outputs": [],
   "source": []
  },
  {
   "cell_type": "code",
   "execution_count": null,
   "metadata": {
    "collapsed": false
   },
   "outputs": [],
   "source": []
  },
  {
   "cell_type": "markdown",
   "metadata": {},
   "source": [
    "The function `any` and `all` allows to check for a list of conditions. For example\n",
    "```python\n",
    "all(x % 3 == 1 for x in l)\n",
    "```\n",
    "check that if all elements in a list `l` are congruent to 1 modulo 3. While\n",
    "```python\n",
    "any(x > 2 for x in l)\n",
    "```\n",
    "check that if one of the element in the list `l` is larger than 2.\n",
    "\n",
    "**Exercise:** What is the value of the list `l` at the end of the execution of the code below\n",
    "```python\n",
    "l = [0, 1]\n",
    "while any(x < 4 for x in l):\n",
    "    l = [2*i + 1 for i in l if i % 5 != 3]\n",
    "    l.append(l[-2] + l[-1])\n",
    "```\n",
    "Check your answer by copy, paste and execute."
   ]
  },
  {
   "cell_type": "code",
   "execution_count": null,
   "metadata": {
    "collapsed": false
   },
   "outputs": [],
   "source": []
  },
  {
   "cell_type": "code",
   "execution_count": null,
   "metadata": {
    "collapsed": false
   },
   "outputs": [],
   "source": []
  },
  {
   "cell_type": "markdown",
   "metadata": {},
   "source": [
    "Extra exercises\n",
    "---------------\n",
    "Below are two more complicated exercises. You have learned enough Python to do them. However, do not worry if you do not succeed since it is quite delicate to design the algorithm."
   ]
  },
  {
   "cell_type": "markdown",
   "metadata": {},
   "source": [
    "**Exercise (++):**\n",
    "- Print all possible permutations of the list `[0, 1, 1, 2, 2, 2, 3, 3, 3, 3]`\n",
    "- How many are they?"
   ]
  },
  {
   "cell_type": "code",
   "execution_count": null,
   "metadata": {
    "collapsed": false
   },
   "outputs": [],
   "source": []
  },
  {
   "cell_type": "code",
   "execution_count": null,
   "metadata": {
    "collapsed": false
   },
   "outputs": [],
   "source": []
  },
  {
   "cell_type": "markdown",
   "metadata": {},
   "source": [
    "**Exercise (++):**\n",
    "A partition of a positive integer `n` is a weakly decreasing list of positive integers whose sum is `n`. For example the partitions of 4 are in reverse lexicographic order\n",
    "\n",
    "    [4]\n",
    "    [3, 1]\n",
    "    [2, 2]\n",
    "    [2, 1, 1]\n",
    "    [1, 1, 1, 1]\n",
    "\n",
    "- Print all partitions of 10.\n",
    "- how many are they?"
   ]
  },
  {
   "cell_type": "code",
   "execution_count": null,
   "metadata": {
    "collapsed": true
   },
   "outputs": [],
   "source": []
  },
  {
   "cell_type": "code",
   "execution_count": null,
   "metadata": {
    "collapsed": true
   },
   "outputs": [],
   "source": []
  }
 ],
 "metadata": {
  "kernelspec": {
   "display_name": "Python 3",
   "language": "python",
   "name": "python3"
  },
  "language_info": {
   "codemirror_mode": {
    "name": "ipython",
    "version": 3
   },
   "file_extension": ".py",
   "mimetype": "text/x-python",
   "name": "python",
   "nbconvert_exporter": "python",
   "pygments_lexer": "ipython3",
   "version": "3.5.2"
  }
 },
 "nbformat": 4,
 "nbformat_minor": 1
}
