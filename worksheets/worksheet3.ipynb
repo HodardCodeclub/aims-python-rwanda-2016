{
 "cells": [
  {
   "cell_type": "markdown",
   "metadata": {},
   "source": [
    "Course 3: functions\n",
    "===================\n",
    "\n",
    "In this worksheet we will learn about writing new functions. It will also be the occasion to review what has been done in the two previous worksheets.\n",
    "\n",
    "The syntax to write a function is as follows\n",
    "\n",
    "```python\n",
    "def name_of_the_function(arguments):\n",
    "    computations\n",
    "```\n",
    "\n",
    "\n",
    "Note the indentation which is the same as with loops.\n",
    "\n",
    "Here is a the concrete example the function `(x, y) -> cos(x) + sin(y)`.\n",
    "\n",
    "```python\n",
    "def f(x, y):\n",
    "    from math import cos, sin\n",
    "    s = cos(x)\n",
    "    t = sin(y)\n",
    "    return s + t\n",
    "```\n",
    "The keyword `return` is specific to functions and specifies a value to be returned by a function. It can be any Python object."
   ]
  },
  {
   "cell_type": "markdown",
   "metadata": {},
   "source": [
    "**Exercise:** Copy the function `f` in the cell below and test it with various input values."
   ]
  },
  {
   "cell_type": "markdown",
   "metadata": {},
   "source": [
    "It is valid to write a Python function that does not contain `return`. For example\n",
    "```python\n",
    "    def welcome_message(name):\n",
    "        s = \"Hello \" + name + \"!\"\n",
    "        print(s)\n",
    "```\n",
    "\n",
    "**Exercise:**\n",
    "- What does the above function do?\n",
    "- Copy, paste and execute the function `welcome_message` in a code cell and use it to print a welcome message with your name.\n",
    "- What is the output value of `welcome_message`? (*hint*: use the `type` function that we used at the begining of this sheet)"
   ]
  },
  {
   "cell_type": "code",
   "execution_count": null,
   "metadata": {
    "collapsed": true
   },
   "outputs": [],
   "source": []
  },
  {
   "cell_type": "code",
   "execution_count": null,
   "metadata": {
    "collapsed": false
   },
   "outputs": [],
   "source": []
  },
  {
   "cell_type": "code",
   "execution_count": null,
   "metadata": {
    "collapsed": false
   },
   "outputs": [],
   "source": []
  },
  {
   "cell_type": "markdown",
   "metadata": {
    "collapsed": true
   },
   "source": [
    "**Exercise:** Write a function that compute the mean value and standard deviation of a list of floating point numbers."
   ]
  },
  {
   "cell_type": "code",
   "execution_count": null,
   "metadata": {
    "collapsed": false
   },
   "outputs": [],
   "source": []
  },
  {
   "cell_type": "code",
   "execution_count": null,
   "metadata": {
    "collapsed": false
   },
   "outputs": [],
   "source": []
  },
  {
   "cell_type": "code",
   "execution_count": null,
   "metadata": {
    "collapsed": false
   },
   "outputs": [],
   "source": []
  },
  {
   "cell_type": "markdown",
   "metadata": {
    "collapsed": false
   },
   "source": [
    "**exercise:** The Collatz function is the function defined on the positive integers as $collatz(n) = n/2$ if $n$ is even and $collatz(n) = 3n+1$ otherwise.\n",
    "\n",
    "Program this function in Python\n",
    "\n",
    "It is a conjecture that starting from any positive integer and repeatedly applying the collatz function we end up with the cycle $1 \\mapsto 4 \\mapsto 2 \\mapsto 1$. For example $$13 \\mapsto 40 \\mapsto 20 \\mapsto 10 \\mapsto 5 \\mapsto 16 \\mapsto 8 \\mapsto 4 \\mapsto 2 \\mapsto 1.$$\n",
    "\n",
    "Write a function `collatz_length(n)` that returns the number of steps needed to reach $1$ by applying the Collatz function."
   ]
  },
  {
   "cell_type": "code",
   "execution_count": null,
   "metadata": {
    "collapsed": false
   },
   "outputs": [],
   "source": []
  },
  {
   "cell_type": "code",
   "execution_count": null,
   "metadata": {
    "collapsed": true
   },
   "outputs": [],
   "source": []
  },
  {
   "cell_type": "markdown",
   "metadata": {},
   "source": [
    "**Exercise:**\n",
    "\n",
    "- What does the following function do?\n",
    "\n",
    "```python\n",
    "def function(n):\n",
    "    d = []\n",
    "    for i in range(1, n+1):\n",
    "        if n % i == 0:\n",
    "            d.append(i)\n",
    "    return d\n",
    "```\n",
    "\n",
    "- Can you find a more efficient way to program it?"
   ]
  },
  {
   "cell_type": "code",
   "execution_count": null,
   "metadata": {
    "collapsed": true
   },
   "outputs": [],
   "source": []
  },
  {
   "cell_type": "code",
   "execution_count": null,
   "metadata": {
    "collapsed": true
   },
   "outputs": [],
   "source": []
  },
  {
   "cell_type": "code",
   "execution_count": null,
   "metadata": {
    "collapsed": true
   },
   "outputs": [],
   "source": []
  },
  {
   "cell_type": "code",
   "execution_count": null,
   "metadata": {
    "collapsed": true
   },
   "outputs": [],
   "source": []
  },
  {
   "cell_type": "code",
   "execution_count": null,
   "metadata": {
    "collapsed": true
   },
   "outputs": [],
   "source": []
  },
  {
   "cell_type": "markdown",
   "metadata": {},
   "source": [
    "**Exercise:** Given a smooth function $f: \\mathbb{R} \\to \\mathbb{R}$, the Newton method consists in forming the sequence $$x_{n+1} = x_n - \\frac{f(x_n)}{f'(x_n)}$$.\n",
    "Under certain general condition, one can show that $x_n$ converges to a root of $f$.\n",
    "- Write a function `nth_root(s, n)` that applies the Newton method starting from `x_0 = 1` and the function `f(x) x^n - s` for 10 steps and return the result\n",
    "- What does this function compute?"
   ]
  },
  {
   "cell_type": "code",
   "execution_count": null,
   "metadata": {
    "collapsed": true
   },
   "outputs": [],
   "source": []
  },
  {
   "cell_type": "code",
   "execution_count": null,
   "metadata": {
    "collapsed": true
   },
   "outputs": [],
   "source": []
  },
  {
   "cell_type": "code",
   "execution_count": null,
   "metadata": {
    "collapsed": true
   },
   "outputs": [],
   "source": []
  },
  {
   "cell_type": "markdown",
   "metadata": {},
   "source": [
    "**Exercise (++):** Write a function `plot_ellipse(a, b, c, d, e, f)` that plot the ellipse of equation `a x^2 + bxy + cy^2 + dx + ey + f = 0`."
   ]
  },
  {
   "cell_type": "code",
   "execution_count": null,
   "metadata": {
    "collapsed": true
   },
   "outputs": [],
   "source": []
  },
  {
   "cell_type": "code",
   "execution_count": null,
   "metadata": {
    "collapsed": true
   },
   "outputs": [],
   "source": []
  },
  {
   "cell_type": "code",
   "execution_count": null,
   "metadata": {
    "collapsed": true
   },
   "outputs": [],
   "source": []
  },
  {
   "cell_type": "markdown",
   "metadata": {
    "collapsed": false
   },
   "source": [
    "Recursion\n",
    "---------\n",
    "We call a function recursive when it calls itself. The following is an implementation of factorial\n",
    "```python\n",
    "def factorial(n):\n",
    "    if n == 0:\n",
    "        return 1\n",
    "    else:\n",
    "        return n * factorial(n-1)\n",
    "```\n",
    "\n",
    "**Exercise:** Implement the binomial function in a recursive way"
   ]
  },
  {
   "cell_type": "code",
   "execution_count": null,
   "metadata": {
    "collapsed": false
   },
   "outputs": [],
   "source": []
  },
  {
   "cell_type": "code",
   "execution_count": null,
   "metadata": {
    "collapsed": true
   },
   "outputs": [],
   "source": []
  },
  {
   "cell_type": "markdown",
   "metadata": {},
   "source": [
    "Recursive functions are very slow (especially in Python). But it is very powerful as we will see in the following examples. If you feel it, you can try to implement non-recursive versions.\n",
    "\n",
    "**Exercise:** plot the [Sierpinski triangle](https://en.wikipedia.org/wiki/Sierpinski_triangle) using a recursive function."
   ]
  },
  {
   "cell_type": "code",
   "execution_count": null,
   "metadata": {
    "collapsed": true
   },
   "outputs": [],
   "source": []
  },
  {
   "cell_type": "code",
   "execution_count": null,
   "metadata": {
    "collapsed": false
   },
   "outputs": [],
   "source": []
  },
  {
   "cell_type": "code",
   "execution_count": null,
   "metadata": {
    "collapsed": false
   },
   "outputs": [],
   "source": []
  },
  {
   "cell_type": "markdown",
   "metadata": {
    "collapsed": true
   },
   "source": [
    "**Exercise (++):** (Hanoi towers). We have at our disposition three lists `l1`, `l2` and `l3`. At each step we are allowed to take the last element from a list and put it on the top of another list. But all list should always be in increasing order.\n",
    "\n",
    "The following is a valid sequence of moves\n",
    "\n",
    "    l1        l2     l3\n",
    " \n",
    "    [0, 1, 2] []     []\n",
    "    [0, 1]    []     [2]\n",
    "    [0]       [1]    [2]\n",
    "    [0]       [1, 2] []\n",
    "    []        [1, 2] [0]\n",
    "    [2]       [1]    [0]\n",
    "    [2]       []     [0, 1]\n",
    "    []        []     [0, 1, 2]\n",
    "  \n",
    "Write a (recursive) function that print all steps to go from\n",
    "\n",
    "    l1 = [0, 1, 2, 3, 4]\n",
    "    l2 = []\n",
    "    l3 = []\n",
    "\n",
    "to\n",
    "\n",
    "    l1 = []\n",
    "    l2 = []\n",
    "    l3 = [0, 1, 2, 3, 4]"
   ]
  },
  {
   "cell_type": "code",
   "execution_count": null,
   "metadata": {
    "collapsed": true
   },
   "outputs": [],
   "source": []
  },
  {
   "cell_type": "code",
   "execution_count": null,
   "metadata": {
    "collapsed": true
   },
   "outputs": [],
   "source": []
  },
  {
   "cell_type": "code",
   "execution_count": null,
   "metadata": {
    "collapsed": true
   },
   "outputs": [],
   "source": []
  },
  {
   "cell_type": "code",
   "execution_count": null,
   "metadata": {
    "collapsed": true
   },
   "outputs": [],
   "source": []
  },
  {
   "cell_type": "code",
   "execution_count": null,
   "metadata": {
    "collapsed": true
   },
   "outputs": [],
   "source": []
  },
  {
   "cell_type": "markdown",
   "metadata": {
    "collapsed": true
   },
   "source": [
    "**Exercise (++):** Write a recursive function that solves the following problem:\n",
    "given a positive integer $n$ and a positive rational number $p/q$ find all solutions in positive integers $a_1, a_2, \\ldots, a_n$ that satisfies $$\\frac{1}{a_1} + \\frac{1}{a_2} + \\ldots + \\frac{1}{a_n} = \\frac{p}{q}.$$\n",
    "(you could first prove that there are finitely many solutions)"
   ]
  },
  {
   "cell_type": "code",
   "execution_count": null,
   "metadata": {
    "collapsed": false
   },
   "outputs": [],
   "source": []
  },
  {
   "cell_type": "code",
   "execution_count": null,
   "metadata": {
    "collapsed": true
   },
   "outputs": [],
   "source": []
  },
  {
   "cell_type": "code",
   "execution_count": null,
   "metadata": {
    "collapsed": false
   },
   "outputs": [],
   "source": []
  },
  {
   "cell_type": "code",
   "execution_count": null,
   "metadata": {
    "collapsed": false
   },
   "outputs": [],
   "source": [
    "\n"
   ]
  },
  {
   "cell_type": "code",
   "execution_count": null,
   "metadata": {
    "collapsed": false
   },
   "outputs": [],
   "source": []
  }
 ],
 "metadata": {
  "kernelspec": {
   "display_name": "Python 3",
   "language": "python",
   "name": "python3"
  },
  "language_info": {
   "codemirror_mode": {
    "name": "ipython",
    "version": 3
   },
   "file_extension": ".py",
   "mimetype": "text/x-python",
   "name": "python",
   "nbconvert_exporter": "python",
   "pygments_lexer": "ipython3",
   "version": "3.5.2"
  }
 },
 "nbformat": 4,
 "nbformat_minor": 1
}
