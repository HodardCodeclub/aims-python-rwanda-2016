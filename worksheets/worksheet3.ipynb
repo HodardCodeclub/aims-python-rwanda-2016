{
 "cells": [
  {
   "cell_type": "markdown",
   "metadata": {},
   "source": [
    "Course 3: functions\n",
    "===================\n",
    "\n",
    "In the previous worksheets you have already used a lot of Python functions like `print`, `len`, `math.cos`, `numpy.arange` or `matplotlib.pyplot.plot`. In this worksheet we will learn how to write new functions.\n",
    "\n",
    "We present the syntax by writing a function which takes in argument two numbers `x` and `y` and returns the value of `cos(x) + sin(y)`.\n",
    "```python\n",
    "def f(x, y):\n",
    "    from math import cos, sin\n",
    "    s = cos(x)\n",
    "    t = sin(y)\n",
    "    return s + t\n",
    "```\n",
    "The keyword `return` specifies the value to be returned by the function. It can be any Python object."
   ]
  },
  {
   "cell_type": "markdown",
   "metadata": {},
   "source": [
    "**Exercise:** Copy the function `f` above in a code cell and test it with various input values."
   ]
  },
  {
   "cell_type": "code",
   "execution_count": null,
   "metadata": {
    "collapsed": true
   },
   "outputs": [],
   "source": []
  },
  {
   "cell_type": "code",
   "execution_count": null,
   "metadata": {
    "collapsed": true
   },
   "outputs": [],
   "source": []
  },
  {
   "cell_type": "markdown",
   "metadata": {},
   "source": [
    "**Exercise:** Make a function `sign` that computes the sign of a number (i.e. `-1` if it is negative, `0` if it is zero and `1` if it is positive). (*hint: we already saw the code in a previous worksheet*)"
   ]
  },
  {
   "cell_type": "code",
   "execution_count": null,
   "metadata": {
    "collapsed": true
   },
   "outputs": [],
   "source": []
  },
  {
   "cell_type": "code",
   "execution_count": null,
   "metadata": {
    "collapsed": true
   },
   "outputs": [],
   "source": []
  },
  {
   "cell_type": "markdown",
   "metadata": {},
   "source": [
    "It is valid to write a Python function that does not contain `return`. For example\n",
    "```python\n",
    "    def welcome_message(name):\n",
    "        s = \"Hello \" + name + \"!\"\n",
    "        print(s)\n",
    "```\n",
    "\n",
    "**Exercise:**\n",
    "- What does the above function do?\n",
    "- Copy, paste and execute the function `welcome_message` in a code cell and call it with your name as argument.\n",
    "- What is the output value of `welcome_message`? (*hint*: use the `type` function that we used in the first worksheet)"
   ]
  },
  {
   "cell_type": "code",
   "execution_count": null,
   "metadata": {
    "collapsed": false
   },
   "outputs": [],
   "source": []
  },
  {
   "cell_type": "code",
   "execution_count": null,
   "metadata": {
    "collapsed": false
   },
   "outputs": [],
   "source": []
  },
  {
   "cell_type": "markdown",
   "metadata": {},
   "source": [
    "It is also valid to write a Python function with no argument\n",
    "```python\n",
    "def am_i_beautiful():\n",
    "    print('yes')\n",
    "```\n",
    "**Exercise:** Copy, paste and execute the above code."
   ]
  },
  {
   "cell_type": "code",
   "execution_count": null,
   "metadata": {
    "collapsed": true
   },
   "outputs": [],
   "source": []
  },
  {
   "cell_type": "code",
   "execution_count": null,
   "metadata": {
    "collapsed": true
   },
   "outputs": [],
   "source": []
  },
  {
   "cell_type": "markdown",
   "metadata": {
    "collapsed": true
   },
   "source": [
    "**Exercise:**\n",
    "- Write a function `stat_info(l)` that prints the mean value and variance of a list of floating point numbers.\n",
    "- Make a function `binomials(n)` that produces the list of all binomial numbers $\\binom{n}{k}$ for $k=0,1,...n$ (see worksheet 2).\n",
    "- After converting them to floating point numbers, use `stat_info` to compute the mean and standard deviation of the finite sequence $\\left(\\binom{30}{0}, \\binom{30}{1}, \\ldots, \\binom{30}{30}\\right)$."
   ]
  },
  {
   "cell_type": "code",
   "execution_count": null,
   "metadata": {
    "collapsed": false
   },
   "outputs": [],
   "source": []
  },
  {
   "cell_type": "code",
   "execution_count": null,
   "metadata": {
    "collapsed": false
   },
   "outputs": [],
   "source": []
  },
  {
   "cell_type": "markdown",
   "metadata": {
    "collapsed": false
   },
   "source": [
    "**exercise:** The Collatz function is the function defined on the positive integers as $collatz(n) = n/2$ if $n$ is even and $collatz(n) = 3n+1$ otherwise. Program this function in Python as `collatz(n)`.\n",
    "\n",
    "It is a conjecture that starting from any positive integer and repeatedly applying the collatz function we end up with the cycle $1 \\mapsto 4 \\mapsto 2 \\mapsto 1$. For example $$13 \\mapsto 40 \\mapsto 20 \\mapsto 10 \\mapsto 5 \\mapsto 16 \\mapsto 8 \\mapsto 4 \\mapsto 2 \\mapsto 1.$$\n",
    "\n",
    "Write a function `collatz_length(n)` that returns the number of steps needed to reach $1$ by applying the Collatz function.\n",
    "\n",
    "Compute the lengths needed to attain 1 with the Collatz function for the first 50th integers."
   ]
  },
  {
   "cell_type": "code",
   "execution_count": null,
   "metadata": {
    "collapsed": false
   },
   "outputs": [],
   "source": []
  },
  {
   "cell_type": "code",
   "execution_count": null,
   "metadata": {
    "collapsed": true
   },
   "outputs": [],
   "source": []
  },
  {
   "cell_type": "markdown",
   "metadata": {},
   "source": [
    "**Exercise:**\n",
    "\n",
    "- What does the following function do?\n",
    "\n",
    "```python\n",
    "def function(n):\n",
    "    d = []\n",
    "    for i in range(1, n+1):\n",
    "        if n % i == 0:\n",
    "            d.append(i)\n",
    "    return d\n",
    "```\n",
    "\n",
    "- Can you find a more efficient way to program it?"
   ]
  },
  {
   "cell_type": "code",
   "execution_count": null,
   "metadata": {
    "collapsed": true
   },
   "outputs": [],
   "source": []
  },
  {
   "cell_type": "code",
   "execution_count": null,
   "metadata": {
    "collapsed": true
   },
   "outputs": [],
   "source": []
  },
  {
   "cell_type": "markdown",
   "metadata": {},
   "source": [
    "**Exercise:** Given a smooth function $f: \\mathbb{R} \\to \\mathbb{R}$, the Newton method consists in forming the sequence $$x_{n+1} = x_n - \\frac{f(x_n)}{f'(x_n)}.$$\n",
    "Under certain general condition, one can show that $x_n$ converges to a root of $f$ (if you are curious you can have a look at the corresponding [wikipedia article](https://en.wikipedia.org/wiki/Newton%27s_method).\n",
    "- Write a function `nth_root(s, n, k)` that applies the Newton method starting from $x_0 = 1.0$ and the function $f(x) = x^n - s$ for $k$ steps and return the result.\n",
    "- Does the Newton method seems to converge in this case? To which value?"
   ]
  },
  {
   "cell_type": "code",
   "execution_count": null,
   "metadata": {
    "collapsed": true
   },
   "outputs": [],
   "source": []
  },
  {
   "cell_type": "code",
   "execution_count": null,
   "metadata": {
    "collapsed": true
   },
   "outputs": [],
   "source": []
  },
  {
   "cell_type": "markdown",
   "metadata": {},
   "source": [
    "When calling a function you can also name the arguments. For example defining\n",
    "```python\n",
    "def f(x, y):\n",
    "    return x + 2*y\n",
    "```\n",
    "You can use any of the following equivalent form\n",
    "```python\n",
    "f(1, 2)\n",
    "f(x=1, y=2)\n",
    "f(y=2, x=1)\n",
    "```\n",
    "**Exercise:** Copy, paste and execute the above code."
   ]
  },
  {
   "cell_type": "code",
   "execution_count": null,
   "metadata": {
    "collapsed": false
   },
   "outputs": [],
   "source": []
  },
  {
   "cell_type": "code",
   "execution_count": null,
   "metadata": {
    "collapsed": false
   },
   "outputs": [],
   "source": []
  },
  {
   "cell_type": "markdown",
   "metadata": {},
   "source": [
    "It is also possible to set some of the arguments of a function to some default. For example\n",
    "```python\n",
    "def newton_sqrt(x, num_steps=5):\n",
    "    for i in range(num_steps):\n",
    "        x = (x + 2.0/x) / 2.0\n",
    "    return x\n",
    "```\n",
    "Defining the function as above, the argument `num_steps` is optional. You can hence use this function in any of the following form\n",
    "```python\n",
    "newton_sqrt(12.34)\n",
    "newton_sqrt(12.34, 12)\n",
    "newton_sqrt(num_steps=12, x=12.34)\n",
    "```\n",
    "**Exercise:**\n",
    "- Find out what the above code is doing.\n",
    "- We have already seen some functions with optional arguments. Do you remember which ones?"
   ]
  },
  {
   "cell_type": "code",
   "execution_count": null,
   "metadata": {
    "collapsed": true
   },
   "outputs": [],
   "source": []
  },
  {
   "cell_type": "code",
   "execution_count": null,
   "metadata": {
    "collapsed": true
   },
   "outputs": [],
   "source": []
  },
  {
   "cell_type": "markdown",
   "metadata": {
    "collapsed": false
   },
   "source": [
    "Recursion\n",
    "---------\n",
    "We call a function recursive when it calls itself. The following is an implementation of factorial\n",
    "```python\n",
    "def factorial(n):\n",
    "    if n == 0:\n",
    "        return 1\n",
    "    else:\n",
    "        return n * factorial(n-1)\n",
    "```\n",
    "Similarly to a proof by induction, you need to have a special case for the initial step.\n",
    "\n",
    "**Exercise:**\n",
    "- Implement a recursive function `binomial_rec(n, k)` to compute the binomial number\n",
    "- Implement a recursive function `fibonacci_rec(n)` to compute the $n$-th Fibonacci number\n",
    "- In each case could you compute how many function calls are done (harder)?"
   ]
  },
  {
   "cell_type": "code",
   "execution_count": null,
   "metadata": {
    "collapsed": false
   },
   "outputs": [],
   "source": []
  },
  {
   "cell_type": "code",
   "execution_count": null,
   "metadata": {
    "collapsed": true
   },
   "outputs": [],
   "source": []
  },
  {
   "cell_type": "markdown",
   "metadata": {},
   "source": [
    "Recursive functions are very slow (especially in Python). But it is very powerful as we will see in the following examples. If you feel it, you can try to implement non-recursive versions.\n",
    "\n",
    "**Exercise:** plot the [Sierpinski triangle](https://en.wikipedia.org/wiki/Sierpinski_triangle) using a recursive function."
   ]
  },
  {
   "cell_type": "code",
   "execution_count": null,
   "metadata": {
    "collapsed": true
   },
   "outputs": [],
   "source": []
  },
  {
   "cell_type": "code",
   "execution_count": null,
   "metadata": {
    "collapsed": false
   },
   "outputs": [],
   "source": []
  },
  {
   "cell_type": "markdown",
   "metadata": {},
   "source": [
    "Extra exercises\n",
    "---------------\n",
    "Below are three more complicated exercises. You have learned enough Python to do them. However, do not worry if you do not succeed since it is quite delicate to design the algorithm."
   ]
  },
  {
   "cell_type": "markdown",
   "metadata": {
    "collapsed": false
   },
   "source": [
    "\n",
    "**Exercise (++):** (Hanoi towers). We have at our disposition three lists `l1`, `l2` and `l3`. At each step we are allowed to take the last element from a list and put it on the top of another list. But all list should always be in increasing order.\n",
    "\n",
    "The following is a valid sequence of moves\n",
    "\n",
    "    l1        l2     l3\n",
    " \n",
    "    [0, 1, 2] []     []\n",
    "    [0, 1]    []     [2]\n",
    "    [0]       [1]    [2]\n",
    "    [0]       [1, 2] []\n",
    "    []        [1, 2] [0]\n",
    "    [2]       [1]    [0]\n",
    "    [2]       []     [0, 1]\n",
    "    []        []     [0, 1, 2]\n",
    "  \n",
    "Write a (recursive) function that print all steps to go from\n",
    "\n",
    "    l1 = [0, 1, 2, 3, 4]\n",
    "    l2 = []\n",
    "    l3 = []\n",
    "\n",
    "to\n",
    "\n",
    "    l1 = []\n",
    "    l2 = []\n",
    "    l3 = [0, 1, 2, 3, 4]\n",
    "\n",
    "Write a non-recursive version (harder!)."
   ]
  },
  {
   "cell_type": "code",
   "execution_count": null,
   "metadata": {
    "collapsed": true
   },
   "outputs": [],
   "source": []
  },
  {
   "cell_type": "code",
   "execution_count": null,
   "metadata": {
    "collapsed": true
   },
   "outputs": [],
   "source": []
  },
  {
   "cell_type": "markdown",
   "metadata": {},
   "source": [
    "**Exercise (++):** Write a function `plot_ellipse(a, b, c, d, e, f)` that plot the ellipse of equation `a x^2 + bxy + cy^2 + dx + ey + f = 0`."
   ]
  },
  {
   "cell_type": "code",
   "execution_count": null,
   "metadata": {
    "collapsed": true
   },
   "outputs": [],
   "source": []
  },
  {
   "cell_type": "code",
   "execution_count": null,
   "metadata": {
    "collapsed": true
   },
   "outputs": [],
   "source": []
  },
  {
   "cell_type": "markdown",
   "metadata": {
    "collapsed": true
   },
   "source": [
    "**Exercise (++):** A square in a list is a sublist that is repeated twice. For example, the list `[0, 1, 2, 1, 2]` contains a repetition of the sublist `[1, 2]`. And `[0, 2, 1, 1, 2]` contains a repetition of `[1]`. A list that does not contain a square is called squarefree. For example, `[0, 1, 2, 0, 1]` is squarefree.\n",
    "- Write a function to check if a given list is squarefree.\n",
    "- How many lists on the number `0` and `1` are squarefree?\n",
    "- Find the smallest lexicographic squarefree list on `0`, `1` and `2` of length 1000."
   ]
  },
  {
   "cell_type": "code",
   "execution_count": null,
   "metadata": {
    "collapsed": true
   },
   "outputs": [],
   "source": []
  },
  {
   "cell_type": "code",
   "execution_count": null,
   "metadata": {
    "collapsed": true
   },
   "outputs": [],
   "source": []
  },
  {
   "cell_type": "markdown",
   "metadata": {
    "collapsed": true
   },
   "source": [
    "**Exercise (++):** Write a recursive function that solves the following problem:\n",
    "given a positive integer $n$ and a positive rational number $p/q$ find all solutions in positive integers $a_1, a_2, \\ldots, a_n$ that satisfies $$\\frac{1}{a_1} + \\frac{1}{a_2} + \\ldots + \\frac{1}{a_n} = \\frac{p}{q}.$$\n",
    "(you could first prove that there are finitely many solutions)"
   ]
  },
  {
   "cell_type": "code",
   "execution_count": null,
   "metadata": {
    "collapsed": false
   },
   "outputs": [],
   "source": []
  },
  {
   "cell_type": "code",
   "execution_count": null,
   "metadata": {
    "collapsed": true
   },
   "outputs": [],
   "source": []
  },
  {
   "cell_type": "markdown",
   "metadata": {},
   "source": [
    "Copyright (C) 2016 Vincent Delecroix <vincent.delecroix@u-bordeaux.fr>\n",
    "\n",
    "This work is licensed under a Creative Commons Attribution-NonCommercial 4.0\n",
    "International License (CC BY-NC-SA 4.0). You can either read the\n",
    "[Creative Commons Deed](https://creativecommons.org/licenses/by-nc-sa/4.0/)\n",
    "(Summary) or the [Legal Code](https://creativecommons.org/licenses/by-nc-sa/4.0/legalcode)\n",
    "(Full licence)."
   ]
  }
 ],
 "metadata": {
  "kernelspec": {
   "display_name": "Python 3",
   "language": "python",
   "name": "python3"
  },
  "language_info": {
   "codemirror_mode": {
    "name": "ipython",
    "version": 3
   },
   "file_extension": ".py",
   "mimetype": "text/x-python",
   "name": "python",
   "nbconvert_exporter": "python",
   "pygments_lexer": "ipython3",
   "version": "3.5.2"
  }
 },
 "nbformat": 4,
 "nbformat_minor": 1
}
