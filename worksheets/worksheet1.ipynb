{
 "cells": [
  {
   "cell_type": "markdown",
   "metadata": {},
   "source": [
    "# Course 1: Python as a powerful calculator\n",
    "\n",
    "This is the first of several worksheets to learn Python. Other references include\n",
    "\n",
    "- [Python 3 tutorial](https://docs.python.org/3/tutorial/)\n",
    "\n",
    "In this course we will see how to use the Jupyter notebook and introduce the following notions from Python\n",
    "\n",
    "- some basic types: `bool`, `int`, `float`, `complex`, `str`, `type`\n",
    "- some binary operators: `+` (add), `-` (sub), `*` (mul), `/` (truediv), `//` (floordiv), `**` (pow), `%` (mod)\n",
    "- comparison operators: `==` (equal), `!=` (different), `<` (lesser), `<=` (less or equal), `>` (greater), `>=` (greater or equal)\n",
    "- `or`, `and`, `not`\n",
    "- print functions and string manipulation\n",
    "- comments\n",
    "- variables\n",
    "- calling functions and methods\n",
    "- writing basic functions\n",
    "- making simple plots using `numpy` and `matplotlib`\n",
    "\n",
    "The [Jupyter notebook](http://jupyter.org/) is a way to program in Python inside a web browser (like Firefox). It is very convenient for making presentations. We will see other way of using Python later on.\n",
    "\n",
    "A notebook is made of cells. Each cell contains either text or code. To execute a cell you need to press `<shift> + <enter>`.\n",
    "\n",
    "Start by executing the cells below, one at a time. Try to understand what it is happening."
   ]
  },
  {
   "cell_type": "code",
   "execution_count": null,
   "metadata": {
    "collapsed": false
   },
   "outputs": [],
   "source": [
    "True"
   ]
  },
  {
   "cell_type": "code",
   "execution_count": null,
   "metadata": {
    "collapsed": false
   },
   "outputs": [],
   "source": [
    "(1 + 3) * 2 - 9"
   ]
  },
  {
   "cell_type": "code",
   "execution_count": null,
   "metadata": {
    "collapsed": false
   },
   "outputs": [],
   "source": [
    "# this is a comment\n",
    "114313414930249341432222123134123"
   ]
  },
  {
   "cell_type": "code",
   "execution_count": null,
   "metadata": {
    "collapsed": false
   },
   "outputs": [],
   "source": [
    "1.23\n",
    "1.2e10\n",
    "float(12)"
   ]
  },
  {
   "cell_type": "code",
   "execution_count": null,
   "metadata": {
    "collapsed": false
   },
   "outputs": [],
   "source": [
    "print(1.23)\n",
    "print(1.2e10)\n",
    "print(float(12))"
   ]
  },
  {
   "cell_type": "code",
   "execution_count": null,
   "metadata": {
    "collapsed": false
   },
   "outputs": [],
   "source": [
    "print(1, 2e10, False)"
   ]
  },
  {
   "cell_type": "code",
   "execution_count": null,
   "metadata": {
    "collapsed": false
   },
   "outputs": [],
   "source": [
    "\"I am a string! Hello!\""
   ]
  },
  {
   "cell_type": "code",
   "execution_count": null,
   "metadata": {
    "collapsed": false
   },
   "outputs": [],
   "source": [
    "print(\"I am a string! Hello!\")"
   ]
  },
  {
   "cell_type": "code",
   "execution_count": null,
   "metadata": {
    "collapsed": false
   },
   "outputs": [],
   "source": []
  },
  {
   "cell_type": "code",
   "execution_count": null,
   "metadata": {
    "collapsed": false
   },
   "outputs": [],
   "source": []
  },
  {
   "cell_type": "code",
   "execution_count": null,
   "metadata": {
    "collapsed": true
   },
   "outputs": [],
   "source": []
  },
  {
   "cell_type": "markdown",
   "metadata": {},
   "source": [
    "Variables\n",
    "---------\n",
    "\n",
    "A variable in computer science is a different concept from the one in mathematics. A (computer science) variable is a name that contains a value (a kind of *\"named box\"*). Whereas a (mathematical) variable is an unknown value.\n",
    "\n",
    "To initializae a variable, one uses the syntax `name = value` as in\n",
    "```python\n",
    "a = 3\n",
    "```\n",
    "This operations is called *assignemt* and is very different from mathematical equality.\n",
    "\n",
    "Once a variable is assigned you can manipulate it, like printing\n",
    "```python\n",
    "print(a)\n",
    "```\n",
    "\n",
    "**Exercise:** Copy, paste and execute the two above commands in the code cells below."
   ]
  },
  {
   "cell_type": "code",
   "execution_count": null,
   "metadata": {
    "collapsed": false
   },
   "outputs": [],
   "source": []
  },
  {
   "cell_type": "code",
   "execution_count": null,
   "metadata": {
    "collapsed": true
   },
   "outputs": [],
   "source": []
  },
  {
   "cell_type": "code",
   "execution_count": null,
   "metadata": {
    "collapsed": true
   },
   "outputs": [],
   "source": []
  },
  {
   "cell_type": "code",
   "execution_count": null,
   "metadata": {
    "collapsed": false
   },
   "outputs": [],
   "source": []
  },
  {
   "cell_type": "markdown",
   "metadata": {},
   "source": [
    "**Exercise**\n",
    "\n",
    "What will be the output of\n",
    "\n",
    "```python\n",
    "a = 1\n",
    "a = a + 2\n",
    "a = 3 * a\n",
    "print(a)\n",
    "```\n",
    "\n",
    "Check your answer by executing the code in a cell."
   ]
  },
  {
   "cell_type": "code",
   "execution_count": null,
   "metadata": {
    "collapsed": true
   },
   "outputs": [],
   "source": []
  },
  {
   "cell_type": "code",
   "execution_count": null,
   "metadata": {
    "collapsed": true
   },
   "outputs": [],
   "source": []
  },
  {
   "cell_type": "markdown",
   "metadata": {},
   "source": [
    "Types\n",
    "-----\n",
    "\n",
    "Each Python object has a *type*. Namely an integer is of type `int` and a floating point as type `float`. To get the type of a variable you can use `type` as shown below.\n",
    "\n",
    "To check that a given value has a given type, there is the function `isinstance`."
   ]
  },
  {
   "cell_type": "code",
   "execution_count": null,
   "metadata": {
    "collapsed": false
   },
   "outputs": [],
   "source": [
    "v = False\n",
    "print(\"v =\", v, \"has type\", type(v))\n",
    "v = 1\n",
    "print(\"v =\", v, \"has type\", type(v))\n",
    "v = 1.2\n",
    "print(\"v =\", v, \"has type\", type(v))\n",
    "v = 1 + 1j\n",
    "print(\"v =\", v, \"has type\", type(v))\n",
    "v = \"hey\"\n",
    "print(\"v =\", v, \"has type\", type(v))\n",
    "v = type(True)\n",
    "print(\"v =\", v, \"has type\", type(v))"
   ]
  },
  {
   "cell_type": "code",
   "execution_count": null,
   "metadata": {
    "collapsed": false
   },
   "outputs": [],
   "source": [
    "isinstance(1, int)"
   ]
  },
  {
   "cell_type": "code",
   "execution_count": null,
   "metadata": {
    "collapsed": false
   },
   "outputs": [],
   "source": [
    "isinstance(1.5, float)"
   ]
  },
  {
   "cell_type": "code",
   "execution_count": null,
   "metadata": {
    "collapsed": true
   },
   "outputs": [],
   "source": []
  },
  {
   "cell_type": "markdown",
   "metadata": {},
   "source": [
    "**Exercise**\n",
    "\n",
    "Guess what is the output of each of the command below. Check your answer by executing each statement in code cells.\n",
    "\n",
    "```python\n",
    "isinstance(True, bool)\n",
    "isinstance(13, bool)\n",
    "isinstance(1, float)\n",
    "isinstance(1.5, int)\n",
    "isinstance(1.0, int)    \n",
    "isinstance(True, int)\n",
    "isinstance(int, int)\n",
    "isinstance(bool, type)\n",
    "isinstance(type, type)\n",
    "```"
   ]
  },
  {
   "cell_type": "code",
   "execution_count": null,
   "metadata": {
    "collapsed": false
   },
   "outputs": [],
   "source": []
  },
  {
   "cell_type": "code",
   "execution_count": null,
   "metadata": {
    "collapsed": true
   },
   "outputs": [],
   "source": []
  },
  {
   "cell_type": "markdown",
   "metadata": {},
   "source": [
    "Unary and binary operations, comparisons\n",
    "----------------------------------------\n",
    "\n",
    "Usual arithmetic operations (like sum, multiplication, division, etc) can be done using the following symbols\n",
    "\n",
    "| operator | name               |\n",
    "|----------|--------------------|\n",
    "| `+`      | addition           |\n",
    "| `*`      | multiplication     |\n",
    "| `/`      |(true) division     |\n",
    "| `//`     | (floor) division   |\n",
    "| `**`     | power              |\n",
    "| `%`      | modulo (remainder) |\n",
    "\n",
    "**Exercise**\n",
    "- what is the value of $123582459365376458635 + 25437453754812913859284$?\n",
    "- what is the value of $2^{100}$?"
   ]
  },
  {
   "cell_type": "code",
   "execution_count": null,
   "metadata": {
    "collapsed": false
   },
   "outputs": [],
   "source": []
  },
  {
   "cell_type": "code",
   "execution_count": null,
   "metadata": {
    "collapsed": false
   },
   "outputs": [],
   "source": []
  },
  {
   "cell_type": "code",
   "execution_count": null,
   "metadata": {
    "collapsed": false
   },
   "outputs": [],
   "source": []
  },
  {
   "cell_type": "code",
   "execution_count": null,
   "metadata": {
    "collapsed": false
   },
   "outputs": [],
   "source": []
  },
  {
   "cell_type": "markdown",
   "metadata": {},
   "source": [
    "**Exercise**\n",
    "\n",
    "For each of the operation below guess what is the output then check your answer by executing the code.\n",
    "\n",
    "```python\n",
    "1 + 1.0\n",
    "1.0 + 1\n",
    "1 * 1.0\n",
    "3 - 5\n",
    "type(12 / 3)\n",
    "type(12 // 3)\n",
    "1 / 0\n",
    "3**1000\n",
    "3**1000.0\n",
    "3.0**1000\n",
    "\"haha\" + \" ho\"\n",
    "\"hey!\" * 10\n",
    "```"
   ]
  },
  {
   "cell_type": "code",
   "execution_count": null,
   "metadata": {
    "collapsed": false
   },
   "outputs": [],
   "source": [
    "\n"
   ]
  },
  {
   "cell_type": "code",
   "execution_count": null,
   "metadata": {
    "collapsed": true
   },
   "outputs": [],
   "source": []
  },
  {
   "cell_type": "markdown",
   "metadata": {},
   "source": [
    "Comparisons\n",
    "-----------\n",
    "\n",
    "It is possible to compare values using the following operators\n",
    "\n",
    "| operator | name            |\n",
    "|----------|-----------------|\n",
    "| `==`     | equal           |\n",
    "| `!=`     | different       |\n",
    "| `<`      | lesser          |\n",
    "| `<=`     | lesser or equal |\n",
    "| `>`      | greater         |\n",
    "| `>=`     | greater or equal|"
   ]
  },
  {
   "cell_type": "code",
   "execution_count": null,
   "metadata": {
    "collapsed": false
   },
   "outputs": [],
   "source": [
    "1 + 1 == 2"
   ]
  },
  {
   "cell_type": "code",
   "execution_count": null,
   "metadata": {
    "collapsed": false
   },
   "outputs": [],
   "source": [
    "5 * (12 - 7) == 26"
   ]
  },
  {
   "cell_type": "code",
   "execution_count": null,
   "metadata": {
    "collapsed": true
   },
   "outputs": [],
   "source": []
  },
  {
   "cell_type": "markdown",
   "metadata": {},
   "source": [
    "**Exercise**\n",
    "\n",
    "For each of the following command guess what is the output and then check your answer.\n",
    "\n",
    "```python\n",
    "3 > 12\n",
    "1 == 1.0\n",
    "1 == \"1\"\n",
    "\"kigali\" < \"rwanda\"\n",
    "\"a\" >= \"aa\"\n",
    "\"a\" < \"A\"\n",
    "1 == 1e60 * 1 / (1e60 + 1)\n",
    "```"
   ]
  },
  {
   "cell_type": "code",
   "execution_count": null,
   "metadata": {
    "collapsed": false
   },
   "outputs": [],
   "source": []
  },
  {
   "cell_type": "code",
   "execution_count": null,
   "metadata": {
    "collapsed": true
   },
   "outputs": [],
   "source": []
  },
  {
   "cell_type": "code",
   "execution_count": null,
   "metadata": {
    "collapsed": true
   },
   "outputs": [],
   "source": []
  },
  {
   "cell_type": "markdown",
   "metadata": {},
   "source": [
    "**Exercise**\n",
    "\n",
    "- If you have a Python floating point number `a` what is the result of `int(a)`?\n",
    "- For a Python integer `a`, do we always have `int(float(a)) == a`?"
   ]
  },
  {
   "cell_type": "code",
   "execution_count": null,
   "metadata": {
    "collapsed": false
   },
   "outputs": [],
   "source": []
  },
  {
   "cell_type": "code",
   "execution_count": null,
   "metadata": {
    "collapsed": false
   },
   "outputs": [],
   "source": []
  },
  {
   "cell_type": "code",
   "execution_count": null,
   "metadata": {
    "collapsed": false
   },
   "outputs": [],
   "source": []
  },
  {
   "cell_type": "code",
   "execution_count": null,
   "metadata": {
    "collapsed": true
   },
   "outputs": [],
   "source": []
  },
  {
   "cell_type": "markdown",
   "metadata": {},
   "source": [
    "**Exercise**\n",
    "\n",
    "- Set three variables `a`, `b` and `c` to be respectively the floating point numbers `1.5e100`, `0.1` and `-1.5e100`\n",
    "- Compute `a + b + c` and `a + c + b`. What do you see? Could you explain why?\n",
    "- Can you reproduce such behavior with integer variables?"
   ]
  },
  {
   "cell_type": "code",
   "execution_count": null,
   "metadata": {
    "collapsed": false
   },
   "outputs": [],
   "source": []
  },
  {
   "cell_type": "code",
   "execution_count": null,
   "metadata": {
    "collapsed": true
   },
   "outputs": [],
   "source": []
  },
  {
   "cell_type": "code",
   "execution_count": null,
   "metadata": {
    "collapsed": false
   },
   "outputs": [],
   "source": []
  },
  {
   "cell_type": "code",
   "execution_count": null,
   "metadata": {
    "collapsed": true
   },
   "outputs": [],
   "source": []
  },
  {
   "cell_type": "code",
   "execution_count": null,
   "metadata": {
    "collapsed": false
   },
   "outputs": [],
   "source": []
  },
  {
   "cell_type": "code",
   "execution_count": null,
   "metadata": {
    "collapsed": false
   },
   "outputs": [],
   "source": []
  },
  {
   "cell_type": "markdown",
   "metadata": {
    "collapsed": false
   },
   "source": [
    "Playing with strings\n",
    "--------------------\n",
    "\n",
    "Each character of a string is encoded by a number. For example \"K\" -> 75, \"e\" -> 101, \"n\" -> 110, \"y\" -> 121, \"a\" -> 97. This encoding is called [ASCII](https://en.wikipedia.org/wiki/ASCII). There are two Python functions to make the translation between character and integers\n",
    "- `ord`: from character to its ASCII code\n",
    "- `chr`: from an integer to its associated character\n",
    "\n",
    "The code ASCII is the code used when comparing strings.\n",
    "\n",
    "**Exercise:**\n",
    "- What is the ASCII code of `A` and `a`?\n",
    "- What is the result of `\"a\" < \"A\"`?"
   ]
  },
  {
   "cell_type": "code",
   "execution_count": null,
   "metadata": {
    "collapsed": false
   },
   "outputs": [],
   "source": []
  },
  {
   "cell_type": "code",
   "execution_count": null,
   "metadata": {
    "collapsed": true
   },
   "outputs": [],
   "source": []
  },
  {
   "cell_type": "code",
   "execution_count": null,
   "metadata": {
    "collapsed": false
   },
   "outputs": [],
   "source": []
  },
  {
   "cell_type": "markdown",
   "metadata": {},
   "source": [
    "There are a lot of useful operations available on strings. Contrarily to all operations we have seen until now these are *methods*. That is, instead of writing `f(x)` we write `x.f()` (these methods are somehow attached to the object `x`). This concept of method comes from [Object Oriented Programming](https://en.wikipedia.org/wiki/Object-oriented_programming) ([Programmation Orientée Objet](https://fr.wikipedia.org/wiki/Programmation_orient%C3%A9e_objet))."
   ]
  },
  {
   "cell_type": "code",
   "execution_count": null,
   "metadata": {
    "collapsed": false
   },
   "outputs": [],
   "source": [
    "s1 = \"My name is Victor\"\n",
    "print(s1)\n",
    "s2 = s1.replace(\"Victor\", \"Sonia\")\n",
    "print(s2)"
   ]
  },
  {
   "cell_type": "code",
   "execution_count": null,
   "metadata": {
    "collapsed": false
   },
   "outputs": [],
   "source": []
  },
  {
   "cell_type": "markdown",
   "metadata": {},
   "source": [
    "**IMPORTANT** You can get the list of all methods of a given object by writing the name of the object with a dot and pressing the `<TAB>` key. This is called *tab-completion* and is very useful to retrieve information about the objects."
   ]
  },
  {
   "cell_type": "code",
   "execution_count": null,
   "metadata": {
    "collapsed": true
   },
   "outputs": [],
   "source": [
    "s1."
   ]
  },
  {
   "cell_type": "code",
   "execution_count": null,
   "metadata": {
    "collapsed": true
   },
   "outputs": [],
   "source": []
  },
  {
   "cell_type": "markdown",
   "metadata": {},
   "source": [
    "**Exercise**:\n",
    "- Using tab-completion, find the name of the method to put all letters of a string in capitals\n",
    "- Use it for the string `s1` defined above."
   ]
  },
  {
   "cell_type": "code",
   "execution_count": null,
   "metadata": {
    "collapsed": false
   },
   "outputs": [],
   "source": []
  },
  {
   "cell_type": "code",
   "execution_count": null,
   "metadata": {
    "collapsed": true
   },
   "outputs": [],
   "source": []
  },
  {
   "cell_type": "markdown",
   "metadata": {},
   "source": [
    "**Exercise**:\n",
    "We define the sequence of strings `s0`, `s1`, `s2`, as follows:\n",
    "\n",
    "* `s0 = \"a\"`\n",
    "* `s_{2n+1}` is obtained from `s_{2n}` by replacing `\"a\"` with `\"ab\"`\n",
    "* `s_{2n}` is obtained from `s_{2n-1}` by replacing `\"b\"` with `\"ba\"`\n",
    "\n",
    "In this exercise, you are asked to study the above sequence.\n",
    "\n",
    "1. Set the variables `s0`, `s1`, `s2`, ... `s8` to the first term of the sequence (*hint*: use the method `replace`).\n",
    "\n",
    "2. Print each of the sequence together with their length\n",
    "\n",
    "3. Now for each of `s0`, `s1`, ..., `s8`, print independently the number of `\"a\"` and the number of `\"b\"` (*hint*: use tab-completion to find the name of the method)\n",
    "\n",
    "4. Did you recognize these numbers?"
   ]
  },
  {
   "cell_type": "code",
   "execution_count": null,
   "metadata": {
    "collapsed": false
   },
   "outputs": [],
   "source": [
    "\n"
   ]
  },
  {
   "cell_type": "code",
   "execution_count": null,
   "metadata": {
    "collapsed": false
   },
   "outputs": [],
   "source": []
  },
  {
   "cell_type": "code",
   "execution_count": null,
   "metadata": {
    "collapsed": false
   },
   "outputs": [],
   "source": []
  },
  {
   "cell_type": "code",
   "execution_count": null,
   "metadata": {
    "collapsed": false
   },
   "outputs": [],
   "source": []
  },
  {
   "cell_type": "markdown",
   "metadata": {},
   "source": [
    "The libraries `math` and `cmath`\n",
    "--------------------------------\n",
    "\n",
    "Python contains itself a lot of libraries (a complete list is available at https://docs.python.org/3/library/). A library is a set of features that are not loaded on startup. To make them available one need to use one of the following syntax:\n",
    "\n",
    "```python\n",
    "from this_module import this_function\n",
    "this_function(18)\n",
    "```\n",
    "    \n",
    "or\n",
    "\n",
    "```python\n",
    "import this_module\n",
    "this_module.this_function(18)\n",
    "```\n",
    "\n",
    "The advantage of the first method is that names are shorter. The advantage of the second is that there are no ambiguity (there is a function `cos` in the modules `math`, `cmath` and `numpy`).\n",
    "\n",
    "Below we show how to import and use the [math](https://docs.python.org/3/library/math.html) and [cmath](https://docs.python.org/3/library/cmath.html) libraries."
   ]
  },
  {
   "cell_type": "code",
   "execution_count": null,
   "metadata": {
    "collapsed": true
   },
   "outputs": [],
   "source": [
    "import math"
   ]
  },
  {
   "cell_type": "code",
   "execution_count": null,
   "metadata": {
    "collapsed": false
   },
   "outputs": [],
   "source": [
    "math.acos(0.07)"
   ]
  },
  {
   "cell_type": "code",
   "execution_count": null,
   "metadata": {
    "collapsed": false
   },
   "outputs": [],
   "source": [
    "math.pi"
   ]
  },
  {
   "cell_type": "code",
   "execution_count": null,
   "metadata": {
    "collapsed": false
   },
   "outputs": [],
   "source": [
    "math.cos(math.pi / 4) == math.sqrt(2) / 2"
   ]
  },
  {
   "cell_type": "code",
   "execution_count": null,
   "metadata": {
    "collapsed": false
   },
   "outputs": [],
   "source": []
  },
  {
   "cell_type": "code",
   "execution_count": null,
   "metadata": {
    "collapsed": true
   },
   "outputs": [],
   "source": [
    "from cmath import exp"
   ]
  },
  {
   "cell_type": "code",
   "execution_count": null,
   "metadata": {
    "collapsed": false
   },
   "outputs": [],
   "source": [
    "cmath.exp(1 + 1j)"
   ]
  },
  {
   "cell_type": "code",
   "execution_count": null,
   "metadata": {
    "collapsed": true
   },
   "outputs": [],
   "source": []
  },
  {
   "cell_type": "code",
   "execution_count": null,
   "metadata": {
    "collapsed": false
   },
   "outputs": [],
   "source": [
    "a = math.pi / 4\n",
    "b = 1 + 1j\n",
    "print(\"cos({}) = {}\\ncos({}) = {}\".format(a, math.cos(a), b, cmath.cos(b)))"
   ]
  },
  {
   "cell_type": "code",
   "execution_count": null,
   "metadata": {
    "collapsed": true
   },
   "outputs": [],
   "source": []
  },
  {
   "cell_type": "markdown",
   "metadata": {
    "collapsed": true
   },
   "source": [
    "**Exercise:** gives an approximate value of `log(2)` and `exp(2)`."
   ]
  },
  {
   "cell_type": "code",
   "execution_count": null,
   "metadata": {
    "collapsed": false
   },
   "outputs": [],
   "source": []
  },
  {
   "cell_type": "code",
   "execution_count": null,
   "metadata": {
    "collapsed": true
   },
   "outputs": [],
   "source": []
  },
  {
   "cell_type": "code",
   "execution_count": null,
   "metadata": {
    "collapsed": true
   },
   "outputs": [],
   "source": []
  },
  {
   "cell_type": "markdown",
   "metadata": {
    "collapsed": true
   },
   "source": [
    "Plotting with `numpy` and `matplotlib`\n",
    "--------------------------------------\n",
    "\n",
    "We will now learn about basic plotting. There are *many* Python modules available with plotting. We will consider `matplotlib` which is popular and well developed (you can have a look at http://matplotlib.org/). The module `matplotlib` uses in the background the module `numpy` (http://www.numpy.org/).\n",
    "\n",
    "In this worksheet we will learn about a unique command called `plot`.\n",
    "\n",
    "You first need to load, matplotlib. In a first cell copy paste and execute the following command\n",
    "\n",
    "    import matplotlib.pyplot as plt\n",
    "    \n",
    "This command makes available the module `matplotlib.pyplot` using the shortcut `plt`. In a second cell copy, paste and execute the following commands\n",
    "\n",
    "```python\n",
    "X = [0, 1, 2, 1]     # a list of 4 numbers\n",
    "Y = [0, 1, -1, 0]    # another list of 4 numbers\n",
    "plt.plot(X, Y)\n",
    "plt.show()\n",
    "```\n",
    "The command `plot` is quite simple: you just need to provide the list of $x$-coordinates and $y$-coordinates. Optionally you can provide arguments to change the linestyle or color. For example the following code will make a fancier line\n",
    "\n",
    "```python\n",
    "X = [0, 1, 2, 1]\n",
    "Y = [0, 1, -1, 0]\n",
    "plt.plot(X, Y, '-Dm')\n",
    "plt.show()\n",
    "```\n",
    "You can get all available options by consulting the documentation with `plt.plot?`.\n",
    "\n",
    "You can superpose various plot on the same figure by calling several times `plot` as in\n",
    "```python\n",
    "plt.plot([0, 1, 2], [-1, 1, -1], '.r')\n",
    "plt.plot([-1, 0, 1, 2, 3], [-2, 2, -2, 2, -2], 'y')\n",
    "plt.show()\n",
    "```"
   ]
  },
  {
   "cell_type": "code",
   "execution_count": null,
   "metadata": {
    "collapsed": false
   },
   "outputs": [],
   "source": []
  },
  {
   "cell_type": "code",
   "execution_count": null,
   "metadata": {
    "collapsed": false
   },
   "outputs": [],
   "source": []
  },
  {
   "cell_type": "code",
   "execution_count": null,
   "metadata": {
    "collapsed": false
   },
   "outputs": [],
   "source": []
  },
  {
   "cell_type": "markdown",
   "metadata": {
    "collapsed": false
   },
   "source": [
    "In order to make more complex plots we will use a command to create large list of numbers. This function is part of `numpy` that will be also used next week. The function is cthe following\n",
    "```python\n",
    "numpy(start, stop, step)\n",
    "```\n",
    "It creates an array of real floating point numbers from `start` to `stop` where the difference between each term is `step`. To use it you first need to import the module, for example with\n",
    "```python\n",
    "import numpy as np\n",
    "```\n",
    "and then the function can be used as\n",
    "```python\n",
    "np.arange(0, 2 * math.pi, 0.1)\n",
    "```\n",
    "The Python module `numpy` contains also most mathematical functions that exists in `math` and `cmath`. The difference is that in `numpy` these functions operate on array (component wise). Copy paste and execute the following example. What do you see?\n",
    "```python\n",
    "X = np.arange(0, 2 * math.pi, 0.1)\n",
    "Y = np.cos(X)\n",
    "plt.plot(X, Y)\n",
    "plt.show()\n",
    "```"
   ]
  },
  {
   "cell_type": "code",
   "execution_count": null,
   "metadata": {
    "collapsed": false
   },
   "outputs": [],
   "source": []
  },
  {
   "cell_type": "code",
   "execution_count": null,
   "metadata": {
    "collapsed": false
   },
   "outputs": [],
   "source": []
  },
  {
   "cell_type": "code",
   "execution_count": null,
   "metadata": {
    "collapsed": false
   },
   "outputs": [],
   "source": []
  },
  {
   "cell_type": "code",
   "execution_count": null,
   "metadata": {
    "collapsed": true
   },
   "outputs": [],
   "source": []
  },
  {
   "cell_type": "markdown",
   "metadata": {},
   "source": [
    "**Exercise**\n",
    "\n",
    "- Using `numpy.arange` and `matplotlib.pyplot.plot` draw a circle with center $(0,0)$ and radius 1\n",
    "- Make a picture of the ellipse $E_1$ with equation $$ x^2 + 2 y^2 = 1.$$\n",
    "- Make a picture of the ellipse $E_2$ with equation $$ x^2 + 2xy + 2y^2 = 1$$\n",
    "- Make a last picture with all figures: the circle in red, the first ellipse in yellow and the second ellipse in green\n",
    "- Add a legend to the picture (*hint: have a look at the documentation of `plt.plot?`*)"
   ]
  },
  {
   "cell_type": "code",
   "execution_count": null,
   "metadata": {
    "collapsed": true
   },
   "outputs": [],
   "source": []
  },
  {
   "cell_type": "code",
   "execution_count": null,
   "metadata": {
    "collapsed": true
   },
   "outputs": [],
   "source": []
  },
  {
   "cell_type": "code",
   "execution_count": null,
   "metadata": {
    "collapsed": true
   },
   "outputs": [],
   "source": []
  }
 ],
 "metadata": {
  "kernelspec": {
   "display_name": "Python 3",
   "language": "python",
   "name": "python3"
  },
  "language_info": {
   "codemirror_mode": {
    "name": "ipython",
    "version": 3
   },
   "file_extension": ".py",
   "mimetype": "text/x-python",
   "name": "python",
   "nbconvert_exporter": "python",
   "pygments_lexer": "ipython3",
   "version": "3.5.2"
  }
 },
 "nbformat": 4,
 "nbformat_minor": 1
}
